{
 "cells": [
  {
   "cell_type": "markdown",
   "metadata": {},
   "source": [
    "### part (a)"
   ]
  },
  {
   "cell_type": "markdown",
   "metadata": {},
   "source": [
    "Using Krichoff's current law, the currents through junction 1, 2 and 3 can be written as:\n",
    "\\begin{equation}\n",
    "    I_{t1} = I_{12} + I_{13} \\\\\n",
    "    I_{t2} + I_{12} = I_{23} + I_{2g} \\\\\n",
    "    I_{13} + I_{23} = I_{3g}\n",
    "\\end{equation}\n",
    "\n",
    "where $t$ and $g$ refer to the positive terminal and the ground resp.\n",
    "\n",
    "Multiplying these by $R$, we get:\n",
    "\\begin{equation}\n",
    "    V_{+} - V_{1} = (V_{1} - V_{2}) + (V_{1}-V_{3}) \\\\\n",
    "    (V_{+} - V_{2}) + (V_{1} - V_{2}) = (V_{2} - V_{3}) + (V_{2} - 0) \\\\\n",
    "    (V_{1} - V_{3}) + (V_{2} - V_{3}) = V_{3} - 0\n",
    "\\end{equation}\n",
    "\n",
    "Re-arranging the terms, this can be written as\n",
    "\n",
    "$$\n",
    "\\begin{bmatrix}\n",
    "    3 & -1 & -1 \\\\\n",
    "    -1 & 4 & -1 \\\\\n",
    "    -1 & -1 & 3\n",
    "\\end{bmatrix}\n",
    "\\begin{bmatrix}\n",
    "    V_{1}\\\\\n",
    "    V_{2}\\\\\n",
    "    V_{3}\n",
    "\\end{bmatrix}\n",
    "=\n",
    "\\begin{bmatrix}\n",
    "    V_{+}\\\\\n",
    "    V_{+}\\\\\n",
    "    0\n",
    "\\end{bmatrix}\n",
    "$$\n",
    "\n",
    "The LU decomposition can be written as:\n",
    "\n",
    "$$\n",
    "\\begin{bmatrix}\n",
    "    3 & -1 & -1 \\\\\n",
    "    -1 & 4 & -1 \\\\\n",
    "    -1 & -1 & 3\n",
    "\\end{bmatrix}\n",
    "=\n",
    "\\begin{bmatrix}\n",
    "    1 & 0 & 0 \\\\\n",
    "    -\\frac{1}{3} & 1 & 0 \\\\\n",
    "    -\\frac{1}{3} & -\\frac{13}{3} & 1\n",
    "\\end{bmatrix}\n",
    "\\begin{bmatrix}\n",
    "    3 & -1 & -1 \\\\\n",
    "    0 & \\frac{11}{3} & -\\frac{4}{3} \\\\\n",
    "    0 & 0 & \\frac{24}{11}\n",
    "\\end{bmatrix}\n",
    "$$\n",
    "\n",
    "Using Gaussian elimination, the solution is given by:\n",
    "$$\n",
    "\\begin{bmatrix}\n",
    "    V_{1}\\\\\n",
    "    V_{2}\\\\\n",
    "    V_{3}\n",
    "\\end{bmatrix}\n",
    "=\n",
    "\\begin{bmatrix}\n",
    "    \\frac{25}{8}\\\\\n",
    "    \\frac{5}{2}\\\\\n",
    "    \\frac{15}{8}\n",
    "\\end{bmatrix}\n",
    "$$"
   ]
  },
  {
   "cell_type": "code",
   "execution_count": 28,
   "metadata": {},
   "outputs": [],
   "source": [
    "import numpy as np"
   ]
  },
  {
   "cell_type": "code",
   "execution_count": 29,
   "metadata": {},
   "outputs": [
    {
     "data": {
      "text/plain": [
       "array([3.125, 2.5  , 1.875])"
      ]
     },
     "execution_count": 29,
     "metadata": {},
     "output_type": "execute_result"
    }
   ],
   "source": [
    "np.linalg.solve([[3,-1,-1],[-1,4,-1],[-1,-1,3]], [5, 5, 0])"
   ]
  },
  {
   "cell_type": "markdown",
   "metadata": {},
   "source": [
    "### part (b)"
   ]
  },
  {
   "cell_type": "markdown",
   "metadata": {},
   "source": [
    "For N internal junctions, all except the first two and the last two junctions are 4-way junctions. They have 2 currents going in, and 2 coming out. \n",
    "That is, for the $i^{th}$ junction (excluding first two and last two), Krichoff's law gives:\n",
    "$$\n",
    "I_{i,i-1} + I_{i,i-2} = I_{i+2,i} + I_{i+1,i} \n",
    "$$\n",
    "Multiplying by $R$, we get:\n",
    "$$\n",
    "(V_{i} - V_{i-1}) + (V_{i} - V_{i-2}) = (V_{i+2} - V_{i}) + (V_{i+1} - V_{i})\n",
    "$$\n",
    "\n",
    "This equation can be rearranged to give:\n",
    "$$- V_{i-1} - V_{i-2} + 4V_{i} -V_{i+1} -V_{i+2} = 0 $$\n",
    "\n",
    "Junctions $1$, $2$, $N-1$ and $N$ are connected to the terminals, so for them the equations are slightly different.\n",
    "\n",
    "These equations can be written as:\n",
    "\n",
    "$$\n",
    "\\begin{bmatrix}\n",
    "    3 & -1 & -1 &  &  &  & \\\\\n",
    "    -1 & 4 & -1 & -1 &  &  &  \\\\\n",
    "    -1 & -1 & 4 & -1 & -1 &  & & ...\\\\\n",
    "     & -1 & -1 & 4 & -1 & -1 &  \\\\\n",
    "     &  & -1 & -1 & 4 & -1 & -1 \\\\\n",
    "     & & & . & & & \\\\\n",
    "     & & & . & & & \\\\\n",
    "     & & & . & & & \\\\\n",
    "     & & & & & & & & -1 & -1 & 4 & -1\\\\\n",
    "     & & & & & & & & & -1 & -1 & 3 \n",
    "\\end{bmatrix}\n",
    "\\begin{bmatrix}\n",
    "    V_{1}\\\\\n",
    "    V_{2}\\\\\n",
    "    V_{3}\\\\\n",
    "    .\\\\\n",
    "    .\\\\\n",
    "    .\\\\\n",
    "    V_{N-1}\\\\\n",
    "    V_{N}\n",
    "\\end{bmatrix}\n",
    "=\n",
    "\\begin{bmatrix}\n",
    "    V_{+}\\\\\n",
    "    V_{+}\\\\\n",
    "    0\\\\\n",
    "    0\\\\\n",
    "    .\\\\\n",
    "    .\\\\\n",
    "    .\\\\\n",
    "\\end{bmatrix}\n",
    "$$\n"
   ]
  },
  {
   "cell_type": "markdown",
   "metadata": {},
   "source": [
    "### part (c)"
   ]
  },
  {
   "cell_type": "code",
   "execution_count": 34,
   "metadata": {},
   "outputs": [
    {
     "name": "stdout",
     "output_type": "stream",
     "text": [
      "[3.7254902  3.43137255 2.74509804 2.25490196 1.56862745 1.2745098 ]\n"
     ]
    }
   ],
   "source": [
    "A = [[3,-1,-1,0,0,0],[-1,4,-1,-1,0,0],[-1,-1,4,-1,-1,0],[0,-1,-1,4,-1,-1],[0,0,-1,-1,4,-1],[0,0,0,-1,-1,3]]\n",
    "b = [5,5]+[0]*4\n",
    "print(np.linalg.solve(A, b))"
   ]
  },
  {
   "cell_type": "markdown",
   "metadata": {},
   "source": [
    "### part (d)"
   ]
  },
  {
   "cell_type": "code",
   "execution_count": 43,
   "metadata": {},
   "outputs": [],
   "source": [
    "######################################################################\n",
    "#\n",
    "# Function to solve a banded system of linear equations using\n",
    "# Gaussian elimination and backsubstitution\n",
    "#\n",
    "# x = banded(A,v,up,down)\n",
    "#\n",
    "# This function returns the vector solution x of the equation A.x = v,\n",
    "# where v is an array representing a vector of N elements, either real\n",
    "# or complex, and A is an N by N banded matrix with \"up\" nonzero\n",
    "# elements above the diagonal and \"down\" nonzero elements below the\n",
    "# diagonal.  The matrix is specified as a two-dimensional array of\n",
    "# (1+up+down) by N elements with the diagonals of the original matrix\n",
    "# along its rows, thus:\n",
    "#\n",
    "#   (  -   -  A02 A13 A24 ...\n",
    "#   (  -  A01 A12 A23 A34 ...\n",
    "#   ( A00 A11 A22 A33 A44 ...\n",
    "#   ( A10 A21 A32 A43 A54 ...\n",
    "#   ( A20 A31 A42 A53 A64 ...\n",
    "#\n",
    "# Elements represented by dashes are ignored -- it doesn't matter what\n",
    "# these elements contain.  The size of the system is taken from the\n",
    "# size of the vector v.  If the matrix A is larger than NxN then the\n",
    "# extras are ignored.  If it is smaller, the program will produce an\n",
    "# error.\n",
    "#\n",
    "# The function is compatible with version 2 and version 3 of Python.\n",
    "#\n",
    "# Written by Mark Newman <mejn@umich.edu>, September 4, 2011\n",
    "# You may use, share, or modify this file freely\n",
    "#\n",
    "######################################################################\n",
    "\n",
    "from numpy import copy\n",
    "\n",
    "def banded(Aa,va,up,down):\n",
    "\n",
    "    # Copy the inputs and determine the size of the system\n",
    "    A = copy(Aa)\n",
    "    v = copy(va)\n",
    "    N = len(v)\n",
    "\n",
    "    # Gaussian elimination\n",
    "    for m in range(N):\n",
    "\n",
    "        # Normalization factor\n",
    "        div = A[up,m]\n",
    "\n",
    "        # Update the vector first\n",
    "        v[m] /= div\n",
    "        for k in range(1,down+1):\n",
    "            if m+k<N:\n",
    "                v[m+k] -= A[up+k,m]*v[m]\n",
    "\n",
    "        # Now normalize the pivot row of A and subtract from lower ones\n",
    "        for i in range(up):\n",
    "            j = m + up - i\n",
    "            if j<N:\n",
    "                A[i,j] /= div\n",
    "                for k in range(1,down+1):\n",
    "                    A[i+k,j] -= A[up+k,m]*A[i,j]\n",
    "\n",
    "    # Backsubstitution\n",
    "    for m in range(N-2,-1,-1):\n",
    "        for i in range(up):\n",
    "            j = m + up - i\n",
    "            if j<N:\n",
    "                v[m] -= A[i,j]*v[j]\n",
    "\n",
    "    return v"
   ]
  },
  {
   "cell_type": "code",
   "execution_count": 42,
   "metadata": {},
   "outputs": [
    {
     "name": "stdout",
     "output_type": "stream",
     "text": [
      "[4.99888228e+00 4.99861842e+00 4.99802841e+00 ... 1.97158611e-03\n",
      " 1.38158071e-03 1.11772227e-03]\n"
     ]
    }
   ],
   "source": [
    "N = 10000\n",
    " \n",
    "diag = 4*np.ones(N)\n",
    "diag[0], diag[-1] = 3, 3\n",
    "\n",
    "v = np.zeros(N)\n",
    "v[0], v[1] = 5, 5\n",
    "A_banded = -1*np.ones(shape=(5,N))\n",
    "A_banded[2,:] = diag \n",
    "\n",
    "x = banded(A_banded, v, 2, 2)\n",
    "print(x)"
   ]
  }
 ],
 "metadata": {
  "kernelspec": {
   "display_name": "Python 3",
   "language": "python",
   "name": "python3"
  },
  "language_info": {
   "codemirror_mode": {
    "name": "ipython",
    "version": 3
   },
   "file_extension": ".py",
   "mimetype": "text/x-python",
   "name": "python",
   "nbconvert_exporter": "python",
   "pygments_lexer": "ipython3",
   "version": "3.6.8"
  }
 },
 "nbformat": 4,
 "nbformat_minor": 2
}
