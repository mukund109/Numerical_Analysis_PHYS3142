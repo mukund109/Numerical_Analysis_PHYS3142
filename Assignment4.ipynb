{
 "cells": [
  {
   "cell_type": "code",
   "execution_count": 1,
   "metadata": {},
   "outputs": [],
   "source": [
    "import matplotlib.pyplot as plt\n",
    "from math import exp\n",
    "%matplotlib inline"
   ]
  },
  {
   "cell_type": "code",
   "execution_count": 2,
   "metadata": {},
   "outputs": [],
   "source": [
    "import numpy as np"
   ]
  },
  {
   "cell_type": "markdown",
   "metadata": {},
   "source": [
    "## Q1"
   ]
  },
  {
   "cell_type": "markdown",
   "metadata": {},
   "source": [
    "Solving the equation for all c in [0,4)"
   ]
  },
  {
   "cell_type": "code",
   "execution_count": 3,
   "metadata": {},
   "outputs": [
    {
     "name": "stdout",
     "output_type": "stream",
     "text": [
      "For c=3, x=0.9404798005896199\n",
      "Number of iterations: 9\n"
     ]
    }
   ],
   "source": [
    "x_list = [] \n",
    "for c_ in range(0,400,2):\n",
    "    c = c_/100\n",
    "    \n",
    "    #the accuracy\n",
    "    delta = 1\n",
    "    \n",
    "    x=1\n",
    "    itr = 0\n",
    "    while delta>1e-7:\n",
    "        x_new = 1-exp(-1*c*x)\n",
    "        delta = abs(x_new- x)\n",
    "        x = x_new\n",
    "        itr += 1\n",
    "        \n",
    "    if c==3:\n",
    "        print(\"For c=3, x={}\".format(x))\n",
    "        print(\"Number of iterations: {}\".format(itr))\n",
    "    x_list.append(x)"
   ]
  },
  {
   "cell_type": "markdown",
   "metadata": {},
   "source": [
    "A plot of the percolation transition"
   ]
  },
  {
   "cell_type": "code",
   "execution_count": 4,
   "metadata": {
    "scrolled": true
   },
   "outputs": [
    {
     "data": {
      "text/plain": [
       "Text(0,0.5,'x')"
      ]
     },
     "execution_count": 4,
     "metadata": {},
     "output_type": "execute_result"
    },
    {
     "data": {
      "image/png": "[encoded data removed]",
      "text/plain": [
       "<Figure size 432x288 with 1 Axes>"
      ]
     },
     "metadata": {},
     "output_type": "display_data"
    }
   ],
   "source": [
    "plt.plot([i/100 for i in range(0,400,2)], x_list)\n",
    "plt.xlabel('c')\n",
    "plt.ylabel('x')"
   ]
  },
  {
   "cell_type": "markdown",
   "metadata": {},
   "source": [
    "## Q2"
   ]
  },
  {
   "cell_type": "markdown",
   "metadata": {},
   "source": [
    "### a)"
   ]
  },
  {
   "cell_type": "markdown",
   "metadata": {},
   "source": [
    "The overrelaxation formula is given by:\n",
    "$$\n",
    "x_{n+1} = (1+\\omega )f(x_n) - \\omega x_n \n",
    "$$\n",
    "\n",
    "$$\n",
    "\\implies f(x_n) = \\frac{x_{n+1} + \\omega x_n}{1+\\omega}  \\ \\ \\ \\ \\ (1)\n",
    "$$\n",
    "\n",
    "Denote the true solution by $x^*$, then the Taylor series expansion of $f$ around $x_n$ is given by:\n",
    "\n",
    "$$\n",
    "f(x^*) \\approx f(x_n) + f'(x_n)(x^* - x_n)\n",
    "$$\n",
    "Since, $x^* = f(x^*)$,\n",
    "\n",
    "$$\n",
    "x^* \\approx f(x_n) + f'(x_n)(x^* - x_n)\n",
    "$$\n",
    "\n",
    "Substituting in equation 1 and solving for $x^*$:\n",
    "$$\n",
    "x^* \\approx \\frac{\\frac{x_{n+1} + \\omega x_n}{1 + \\omega} - f'(x_n) x_n}{1-f'(x_n)}\n",
    "\\\\\n",
    "\\implies x^* - x_{n+1} \\approx \\frac{x_n - x_{n+1}}{1 - \\frac{1}{(1+\\omega) f'(x_n) - \\omega}}\n",
    "$$\n"
   ]
  },
  {
   "cell_type": "markdown",
   "metadata": {},
   "source": [
    "### b) and c)"
   ]
  },
  {
   "cell_type": "code",
   "execution_count": 5,
   "metadata": {
    "scrolled": false
   },
   "outputs": [
    {
     "name": "stdout",
     "output_type": "stream",
     "text": [
      "For w=0.0, Number of iterations: 9\n",
      " \n",
      "For w=0.02, Number of iterations: 9\n",
      " \n",
      "For w=0.04, Number of iterations: 8\n",
      " \n",
      "For w=0.06, Number of iterations: 8\n",
      " \n",
      "For w=0.08, Number of iterations: 7\n",
      " \n",
      "For w=0.1, Number of iterations: 7\n",
      " \n",
      "For w=0.12, Number of iterations: 7\n",
      " \n",
      "For w=0.14, Number of iterations: 6\n",
      " \n",
      "For w=0.16, Number of iterations: 6\n",
      " \n",
      "For w=0.18, Number of iterations: 5\n",
      " \n",
      "For w=0.2, Number of iterations: 4\n",
      " \n",
      "For w=0.22, Number of iterations: 4\n",
      " \n",
      "For w=0.24, Number of iterations: 5\n",
      " \n",
      "For w=0.26, Number of iterations: 6\n",
      " \n",
      "For w=0.28, Number of iterations: 6\n",
      " \n",
      "For w=0.3, Number of iterations: 7\n",
      " \n",
      "For w=0.32, Number of iterations: 7\n",
      " \n",
      "For w=0.34, Number of iterations: 7\n",
      " \n",
      "For w=0.36, Number of iterations: 8\n",
      " \n",
      "For w=0.38, Number of iterations: 8\n",
      " \n",
      "For w=0.4, Number of iterations: 9\n",
      " \n",
      "For w=0.42, Number of iterations: 9\n",
      " \n",
      "For w=0.44, Number of iterations: 9\n",
      " \n",
      "For w=0.46, Number of iterations: 10\n",
      " \n",
      "For w=0.48, Number of iterations: 10\n",
      " \n",
      "For w=0.5, Number of iterations: 11\n",
      " \n",
      "For w=0.52, Number of iterations: 11\n",
      " \n",
      "For w=0.54, Number of iterations: 12\n",
      " \n",
      "For w=0.56, Number of iterations: 12\n",
      " \n",
      "For w=0.58, Number of iterations: 13\n",
      " \n"
     ]
    }
   ],
   "source": [
    "itr_list = [] \n",
    "w_list = []\n",
    "for w_ in range(0,60,2):\n",
    "    w = w_/100\n",
    "    delta = 1\n",
    "    x=1\n",
    "    itr = 0\n",
    "    while delta>1e-7:\n",
    "        x_new = (1+w)*(1-exp(-3*x)) - w*x\n",
    "        delta = abs(x_new- x)\n",
    "        x = x_new\n",
    "        itr += 1\n",
    "    \n",
    "    print(\"For w={}\".format(w), end=', ')\n",
    "    print(\"Number of iterations: {}\".format(itr), end='\\n \\n')\n",
    "    itr_list.append(itr)\n",
    "    w_list.append(w)"
   ]
  },
  {
   "cell_type": "markdown",
   "metadata": {},
   "source": [
    "### d)"
   ]
  },
  {
   "cell_type": "markdown",
   "metadata": {},
   "source": [
    "The recursive formula for the error can be obtained by rearranging the previous equations to get:\n",
    "\n",
    "$$\n",
    "\\epsilon_{n+1} = \\epsilon_{n} [(1+\\omega) f'(x^*) - \\omega]\n",
    "$$\n",
    "\n",
    "(Note: This is an approximation for when $x_{n}$ is close to $x^*$)\n",
    "\n",
    "In order to find the conditions when the overrelaxation method with $\\omega < 0$ converges faster than the ordinary relaxation method ($\\omega = 0$), we need to find values of $f'(x^*)$ and $\\omega$ that satisfy the following constraints:\n",
    "\n",
    "1. Overrelaxation method converges:\n",
    "\n",
    "$$\n",
    "        |(1+\\omega) f'(x^*) - \\omega| < 1\n",
    "$$\n",
    "\n",
    "2. Ordinary relaxation method converges:\n",
    "$$\n",
    "        |f'(x^*)| < 1\n",
    "$$\n",
    "\n",
    "3. Overrelaxation converges faster:\n",
    "$$\n",
    "|(1+\\omega) f'(x^*) - \\omega | < |f'(x^*)|\n",
    "$$\n",
    "\n",
    "4. Overrelaxation factor is negative:\n",
    "$$\n",
    "\\omega < 0\n",
    "$$"
   ]
  },
  {
   "cell_type": "markdown",
   "metadata": {},
   "source": [
    "We can plot this region"
   ]
  },
  {
   "cell_type": "code",
   "execution_count": 6,
   "metadata": {},
   "outputs": [
    {
     "data": {
      "text/plain": [
       "Text(0,0.5,\"f '(x*)\")"
      ]
     },
     "execution_count": 6,
     "metadata": {},
     "output_type": "execute_result"
    },
    {
     "data": {
      "image/png": "[encoded data removed]",
      "text/plain": [
       "<Figure size 432x288 with 1 Axes>"
      ]
     },
     "metadata": {},
     "output_type": "display_data"
    }
   ],
   "source": [
    "fy, wx = np.meshgrid(np.linspace(-2,1,1000), np.linspace(-2,1,1000))\n",
    "mask = np.zeros((1000, 1000), dtype=bool)\n",
    "\n",
    "mask[(np.abs((1+wx)*fy - wx) < 1) & \\\n",
    "(np.abs(fy) < 1) & \\\n",
    "(np.abs((1+wx)*fy - wx) < np.abs(fy)) & \\\n",
    "(wx < 0)] = 2\n",
    "plt.contour(wx, fy, mask, cmap='flag')\n",
    "plt.xlabel(\"w\")\n",
    "plt.ylabel(\"f '(x*)\")"
   ]
  },
  {
   "cell_type": "markdown",
   "metadata": {},
   "source": [
    "Therefore, when the current estimate is sufficiently close to the actual solution, when $f'(x^*)$ and $\\omega$ fall inside this region, the overrelaxation converges faster than ordinary relaxation "
   ]
  },
  {
   "cell_type": "markdown",
   "metadata": {},
   "source": [
    "We can take the simple example of the case when $f(x) = -0.75x$\n",
    "\n",
    "This resembles all cases where the function is locally linear with slope $-0.75$"
   ]
  },
  {
   "cell_type": "code",
   "execution_count": 7,
   "metadata": {
    "scrolled": true
   },
   "outputs": [
    {
     "data": {
      "text/plain": [
       "Text(0,0.5,'Number of iterations')"
      ]
     },
     "execution_count": 7,
     "metadata": {},
     "output_type": "execute_result"
    },
    {
     "data": {
      "image/png": "[encoded data removed]",
      "text/plain": [
       "<Figure size 432x288 with 1 Axes>"
      ]
     },
     "metadata": {},
     "output_type": "display_data"
    }
   ],
   "source": [
    "itr_list = [] \n",
    "w_list = []\n",
    "for w_ in range(-80,1,1):\n",
    "    w = w_/100\n",
    "    delta = 1\n",
    "    x=0.1\n",
    "    itr = 0\n",
    "    while delta>1e-7:\n",
    "        x_new = (1+w)*(-0.75*x) - w*x\n",
    "        delta = abs(x_new- x)\n",
    "        x = x_new\n",
    "        itr += 1\n",
    "       \n",
    "    itr_list.append(itr)\n",
    "    w_list.append(w)\n",
    "plt.plot(w_list, itr_list)\n",
    "plt.xlabel(\"w\")\n",
    "plt.ylabel(\"Number of iterations\")"
   ]
  },
  {
   "cell_type": "code",
   "execution_count": null,
   "metadata": {},
   "outputs": [],
   "source": []
  }
 ],
 "metadata": {
  "kernelspec": {
   "display_name": "Python 3",
   "language": "python",
   "name": "python3"
  },
  "language_info": {
   "codemirror_mode": {
    "name": "ipython",
    "version": 3
   },
   "file_extension": ".py",
   "mimetype": "text/x-python",
   "name": "python",
   "nbconvert_exporter": "python",
   "pygments_lexer": "ipython3",
   "version": "3.6.5"
  }
 },
 "nbformat": 4,
 "nbformat_minor": 2
}
